{
 "cells": [
  {
   "cell_type": "code",
   "execution_count": 2,
   "metadata": {},
   "outputs": [],
   "source": [
    "from influxdb_client import InfluxDBClient\n",
    "import pandas as pd\n",
    "\n",
    "client = InfluxDBClient(url='{url}', token='{token}', org='{org}')\n",
    "\n",
    "query = \"\"\"\n",
    "from(bucket: \"netrics-prod0\")\n",
    "  |> range(start: {}, stop: {})\n",
    "  |> filter(fn: (r) => r[\"_measurement\"] == \"ookla\")\n",
    "  |> filter(fn: (r) => r[\"_field\"] == \"speedtest_ookla_download\" or r[\"_field\"] == \"speedtest_ookla_upload\")\n",
    "\"\"\"\n",
    "\n",
    "fquery = query.format('2021-10-01', '2022-06-30')\n",
    "\n",
    "result = client.query_api().query_data_frame(fquery)"
   ]
  },
  {
   "cell_type": "code",
   "execution_count": 3,
   "metadata": {},
   "outputs": [
    {
     "data": {
      "text/html": [
       "<div>\n",
       "<style scoped>\n",
       "    .dataframe tbody tr th:only-of-type {\n",
       "        vertical-align: middle;\n",
       "    }\n",
       "\n",
       "    .dataframe tbody tr th {\n",
       "        vertical-align: top;\n",
       "    }\n",
       "\n",
       "    .dataframe thead th {\n",
       "        text-align: right;\n",
       "    }\n",
       "</style>\n",
       "<table border=\"1\" class=\"dataframe\">\n",
       "  <thead>\n",
       "    <tr style=\"text-align: right;\">\n",
       "      <th></th>\n",
       "      <th>result</th>\n",
       "      <th>table</th>\n",
       "      <th>_start</th>\n",
       "      <th>_stop</th>\n",
       "      <th>_time</th>\n",
       "      <th>_value</th>\n",
       "      <th>_field</th>\n",
       "      <th>_measurement</th>\n",
       "      <th>install</th>\n",
       "      <th>meta_extended_dataver</th>\n",
       "      <th>meta_extended_debhash</th>\n",
       "    </tr>\n",
       "  </thead>\n",
       "  <tbody>\n",
       "    <tr>\n",
       "      <th>0</th>\n",
       "      <td>_result</td>\n",
       "      <td>0</td>\n",
       "      <td>2021-10-01 00:00:00+00:00</td>\n",
       "      <td>2022-06-30 00:00:00+00:00</td>\n",
       "      <td>2021-10-08 22:12:21.988136+00:00</td>\n",
       "      <td>475.609224</td>\n",
       "      <td>speedtest_ookla_download</td>\n",
       "      <td>ookla</td>\n",
       "      <td>nm-mngd-20210317-3b1681ec</td>\n",
       "      <td>0</td>\n",
       "      <td>EBHASH}</td>\n",
       "    </tr>\n",
       "    <tr>\n",
       "      <th>1</th>\n",
       "      <td>_result</td>\n",
       "      <td>0</td>\n",
       "      <td>2021-10-01 00:00:00+00:00</td>\n",
       "      <td>2022-06-30 00:00:00+00:00</td>\n",
       "      <td>2021-10-08 22:19:17.489398+00:00</td>\n",
       "      <td>233.039768</td>\n",
       "      <td>speedtest_ookla_download</td>\n",
       "      <td>ookla</td>\n",
       "      <td>nm-mngd-20210317-3b1681ec</td>\n",
       "      <td>0</td>\n",
       "      <td>EBHASH}</td>\n",
       "    </tr>\n",
       "    <tr>\n",
       "      <th>2</th>\n",
       "      <td>_result</td>\n",
       "      <td>1</td>\n",
       "      <td>2021-10-01 00:00:00+00:00</td>\n",
       "      <td>2022-06-30 00:00:00+00:00</td>\n",
       "      <td>2021-10-08 22:12:21.988136+00:00</td>\n",
       "      <td>23.933456</td>\n",
       "      <td>speedtest_ookla_upload</td>\n",
       "      <td>ookla</td>\n",
       "      <td>nm-mngd-20210317-3b1681ec</td>\n",
       "      <td>0</td>\n",
       "      <td>EBHASH}</td>\n",
       "    </tr>\n",
       "    <tr>\n",
       "      <th>3</th>\n",
       "      <td>_result</td>\n",
       "      <td>1</td>\n",
       "      <td>2021-10-01 00:00:00+00:00</td>\n",
       "      <td>2022-06-30 00:00:00+00:00</td>\n",
       "      <td>2021-10-08 22:19:17.489398+00:00</td>\n",
       "      <td>23.866664</td>\n",
       "      <td>speedtest_ookla_upload</td>\n",
       "      <td>ookla</td>\n",
       "      <td>nm-mngd-20210317-3b1681ec</td>\n",
       "      <td>0</td>\n",
       "      <td>EBHASH}</td>\n",
       "    </tr>\n",
       "    <tr>\n",
       "      <th>4</th>\n",
       "      <td>_result</td>\n",
       "      <td>2</td>\n",
       "      <td>2021-10-01 00:00:00+00:00</td>\n",
       "      <td>2022-06-30 00:00:00+00:00</td>\n",
       "      <td>2021-10-01 22:06:37.553326+00:00</td>\n",
       "      <td>476.289808</td>\n",
       "      <td>speedtest_ookla_download</td>\n",
       "      <td>ookla</td>\n",
       "      <td>nm-mngd-20210317-3b1681ec</td>\n",
       "      <td>1</td>\n",
       "      <td>223dc2a</td>\n",
       "    </tr>\n",
       "  </tbody>\n",
       "</table>\n",
       "</div>"
      ],
      "text/plain": [
       "    result table                    _start                     _stop  \\\n",
       "0  _result     0 2021-10-01 00:00:00+00:00 2022-06-30 00:00:00+00:00   \n",
       "1  _result     0 2021-10-01 00:00:00+00:00 2022-06-30 00:00:00+00:00   \n",
       "2  _result     1 2021-10-01 00:00:00+00:00 2022-06-30 00:00:00+00:00   \n",
       "3  _result     1 2021-10-01 00:00:00+00:00 2022-06-30 00:00:00+00:00   \n",
       "4  _result     2 2021-10-01 00:00:00+00:00 2022-06-30 00:00:00+00:00   \n",
       "\n",
       "                             _time      _value                    _field  \\\n",
       "0 2021-10-08 22:12:21.988136+00:00  475.609224  speedtest_ookla_download   \n",
       "1 2021-10-08 22:19:17.489398+00:00  233.039768  speedtest_ookla_download   \n",
       "2 2021-10-08 22:12:21.988136+00:00   23.933456    speedtest_ookla_upload   \n",
       "3 2021-10-08 22:19:17.489398+00:00   23.866664    speedtest_ookla_upload   \n",
       "4 2021-10-01 22:06:37.553326+00:00  476.289808  speedtest_ookla_download   \n",
       "\n",
       "  _measurement                    install meta_extended_dataver  \\\n",
       "0        ookla  nm-mngd-20210317-3b1681ec                     0   \n",
       "1        ookla  nm-mngd-20210317-3b1681ec                     0   \n",
       "2        ookla  nm-mngd-20210317-3b1681ec                     0   \n",
       "3        ookla  nm-mngd-20210317-3b1681ec                     0   \n",
       "4        ookla  nm-mngd-20210317-3b1681ec                     1   \n",
       "\n",
       "  meta_extended_debhash  \n",
       "0               EBHASH}  \n",
       "1               EBHASH}  \n",
       "2               EBHASH}  \n",
       "3               EBHASH}  \n",
       "4               223dc2a  "
      ]
     },
     "execution_count": 3,
     "metadata": {},
     "output_type": "execute_result"
    }
   ],
   "source": [
    "result.head()"
   ]
  },
  {
   "cell_type": "code",
   "execution_count": 21,
   "metadata": {},
   "outputs": [],
   "source": [
    "resampled = result.set_index('_time').groupby('install').resample('1M').count()"
   ]
  },
  {
   "cell_type": "code",
   "execution_count": 22,
   "metadata": {},
   "outputs": [],
   "source": [
    "resampled = resampled.drop('install', axis=1).reset_index()"
   ]
  },
  {
   "cell_type": "code",
   "execution_count": 26,
   "metadata": {},
   "outputs": [],
   "source": [
    "filtered = resampled[resampled._value > 20]"
   ]
  },
  {
   "cell_type": "code",
   "execution_count": 30,
   "metadata": {},
   "outputs": [
    {
     "name": "stderr",
     "output_type": "stream",
     "text": [
      "<ipython-input-30-959af1a79373>:1: SettingWithCopyWarning: \n",
      "A value is trying to be set on a copy of a slice from a DataFrame.\n",
      "Try using .loc[row_indexer,col_indexer] = value instead\n",
      "\n",
      "See the caveats in the documentation: https://pandas.pydata.org/pandas-docs/stable/user_guide/indexing.html#returning-a-view-versus-a-copy\n",
      "  filtered['device_on'] = 1\n"
     ]
    },
    {
     "data": {
      "text/plain": [
       "_time\n",
       "2021-10-31 00:00:00+00:00    55\n",
       "2021-11-30 00:00:00+00:00    57\n",
       "2021-12-31 00:00:00+00:00    49\n",
       "2022-01-31 00:00:00+00:00    51\n",
       "2022-02-28 00:00:00+00:00    55\n",
       "2022-03-31 00:00:00+00:00    70\n",
       "2022-04-30 00:00:00+00:00    62\n",
       "2022-05-31 00:00:00+00:00    85\n",
       "2022-06-30 00:00:00+00:00    88\n",
       "Name: device_on, dtype: int64"
      ]
     },
     "execution_count": 30,
     "metadata": {},
     "output_type": "execute_result"
    }
   ],
   "source": [
    "filtered['device_on'] = 1\n",
    "filtered.groupby('_time').device_on.count()"
   ]
  },
  {
   "cell_type": "code",
   "execution_count": 32,
   "metadata": {},
   "outputs": [
    {
     "data": {
      "text/plain": [
       "_time\n",
       "2021-10-31 00:00:00+00:00    55\n",
       "2021-11-30 00:00:00+00:00    57\n",
       "2021-12-31 00:00:00+00:00    49\n",
       "2022-01-31 00:00:00+00:00    51\n",
       "2022-02-28 00:00:00+00:00    55\n",
       "2022-03-31 00:00:00+00:00    70\n",
       "2022-04-30 00:00:00+00:00    62\n",
       "2022-05-31 00:00:00+00:00    85\n",
       "2022-06-30 00:00:00+00:00    88\n",
       "Name: install, dtype: int64"
      ]
     },
     "execution_count": 32,
     "metadata": {},
     "output_type": "execute_result"
    }
   ],
   "source": [
    "filtered.groupby('_time').install.nunique()"
   ]
  },
  {
   "cell_type": "code",
   "execution_count": null,
   "metadata": {},
   "outputs": [],
   "source": []
  }
 ],
 "metadata": {
  "interpreter": {
   "hash": "40d3a090f54c6569ab1632332b64b2c03c39dcf918b08424e98f38b5ae0af88f"
  },
  "kernelspec": {
   "display_name": "Python 3.8.8 64-bit ('base': conda)",
   "name": "python3"
  },
  "language_info": {
   "codemirror_mode": {
    "name": "ipython",
    "version": 3
   },
   "file_extension": ".py",
   "mimetype": "text/x-python",
   "name": "python",
   "nbconvert_exporter": "python",
   "pygments_lexer": "ipython3",
   "version": "3.8.8"
  },
  "orig_nbformat": 4
 },
 "nbformat": 4,
 "nbformat_minor": 2
}

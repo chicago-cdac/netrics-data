{
 "cells": [
  {
   "cell_type": "code",
   "execution_count": 1,
   "metadata": {},
   "outputs": [],
   "source": [
    "from influxdb_client import InfluxDBClient\n",
    "import pandas as pd\n",
    "from dotenv import load_dotenv\n",
    "load_dotenv()\n",
    "# Reach out to mtrichardson@uchicago.edu for access credentials\n",
    "\n",
    "client = InfluxDBClient(url=os.environ['INFLUX_URL'], token=os.environ['INFLUX_TOKEN'], org=os.environ['INFLUX_ORG'])\n",
    "\n",
    "query = \"\"\"\n",
    "{Your Influx Query Here}\n",
    "\"\"\"\n",
    "\n",
    "fquery = query.format('2021-10-01', '2022-06-30')\n",
    "\n",
    "result = client.query_api().query_data_frame(fquery)"
   ]
  },
  {
   "cell_type": "code",
   "execution_count": 5,
   "metadata": {},
   "outputs": [
    {
     "name": "stdout",
     "output_type": "stream",
     "text": [
      "(122891, 11)\n"
     ]
    },
    {
     "data": {
      "text/html": [
       "<div>\n",
       "<style scoped>\n",
       "    .dataframe tbody tr th:only-of-type {\n",
       "        vertical-align: middle;\n",
       "    }\n",
       "\n",
       "    .dataframe tbody tr th {\n",
       "        vertical-align: top;\n",
       "    }\n",
       "\n",
       "    .dataframe thead th {\n",
       "        text-align: right;\n",
       "    }\n",
       "</style>\n",
       "<table border=\"1\" class=\"dataframe\">\n",
       "  <thead>\n",
       "    <tr style=\"text-align: right;\">\n",
       "      <th></th>\n",
       "      <th>_time</th>\n",
       "      <th>_value</th>\n",
       "      <th>_field</th>\n",
       "      <th>_measurement</th>\n",
       "      <th>install</th>\n",
       "    </tr>\n",
       "  </thead>\n",
       "  <tbody>\n",
       "    <tr>\n",
       "      <th>0</th>\n",
       "      <td>2021-10-08 22:12:21.988136+00:00</td>\n",
       "      <td>0.039194</td>\n",
       "      <td>speedtest_ndt7_downloadretrans</td>\n",
       "      <td>ndt7</td>\n",
       "      <td>nm-mngd-20210317-3b1681ec</td>\n",
       "    </tr>\n",
       "    <tr>\n",
       "      <th>1</th>\n",
       "      <td>2021-10-08 22:19:17.489398+00:00</td>\n",
       "      <td>0.050276</td>\n",
       "      <td>speedtest_ndt7_downloadretrans</td>\n",
       "      <td>ndt7</td>\n",
       "      <td>nm-mngd-20210317-3b1681ec</td>\n",
       "    </tr>\n",
       "    <tr>\n",
       "      <th>2</th>\n",
       "      <td>2021-10-01 22:06:37.553326+00:00</td>\n",
       "      <td>0.045584</td>\n",
       "      <td>speedtest_ndt7_downloadretrans</td>\n",
       "      <td>ndt7</td>\n",
       "      <td>nm-mngd-20210317-3b1681ec</td>\n",
       "    </tr>\n",
       "    <tr>\n",
       "      <th>3</th>\n",
       "      <td>2021-10-04 17:06:44.558750+00:00</td>\n",
       "      <td>0.043424</td>\n",
       "      <td>speedtest_ndt7_downloadretrans</td>\n",
       "      <td>ndt7</td>\n",
       "      <td>nm-mngd-20210317-3b1681ec</td>\n",
       "    </tr>\n",
       "    <tr>\n",
       "      <th>4</th>\n",
       "      <td>2021-10-12 19:01:45.057086+00:00</td>\n",
       "      <td>2.160659</td>\n",
       "      <td>speedtest_ndt7_downloadretrans</td>\n",
       "      <td>ndt7</td>\n",
       "      <td>nm-mngd-20210317-3b1681ec</td>\n",
       "    </tr>\n",
       "  </tbody>\n",
       "</table>\n",
       "</div>"
      ],
      "text/plain": [
       "                             _time    _value                          _field  \\\n",
       "0 2021-10-08 22:12:21.988136+00:00  0.039194  speedtest_ndt7_downloadretrans   \n",
       "1 2021-10-08 22:19:17.489398+00:00  0.050276  speedtest_ndt7_downloadretrans   \n",
       "2 2021-10-01 22:06:37.553326+00:00  0.045584  speedtest_ndt7_downloadretrans   \n",
       "3 2021-10-04 17:06:44.558750+00:00  0.043424  speedtest_ndt7_downloadretrans   \n",
       "4 2021-10-12 19:01:45.057086+00:00  2.160659  speedtest_ndt7_downloadretrans   \n",
       "\n",
       "  _measurement                    install  \n",
       "0         ndt7  nm-mngd-20210317-3b1681ec  \n",
       "1         ndt7  nm-mngd-20210317-3b1681ec  \n",
       "2         ndt7  nm-mngd-20210317-3b1681ec  \n",
       "3         ndt7  nm-mngd-20210317-3b1681ec  \n",
       "4         ndt7  nm-mngd-20210317-3b1681ec  "
      ]
     },
     "execution_count": 5,
     "metadata": {},
     "output_type": "execute_result"
    }
   ],
   "source": [
    "print(result.shape)\n",
    "result = result.drop(columns=['result', 'table', '_start', '_stop', 'meta_extended_dataver', 'meta_extended_debhash'])\n",
    "result.head()"
   ]
  },
  {
   "cell_type": "code",
   "execution_count": 6,
   "metadata": {},
   "outputs": [],
   "source": [
    "result.to_csv('{path to data directory}', index=False)"
   ]
  },
  {
   "cell_type": "code",
   "execution_count": null,
   "metadata": {},
   "outputs": [],
   "source": []
  }
 ],
 "metadata": {
  "interpreter": {
   "hash": "40d3a090f54c6569ab1632332b64b2c03c39dcf918b08424e98f38b5ae0af88f"
  },
  "kernelspec": {
   "display_name": "Python 3.8.8 64-bit ('base': conda)",
   "name": "python3"
  },
  "language_info": {
   "codemirror_mode": {
    "name": "ipython",
    "version": 3
   },
   "file_extension": ".py",
   "mimetype": "text/x-python",
   "name": "python",
   "nbconvert_exporter": "python",
   "pygments_lexer": "ipython3",
   "version": "3.8.8"
  },
  "orig_nbformat": 4
 },
 "nbformat": 4,
 "nbformat_minor": 2
}

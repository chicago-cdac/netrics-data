{
 "cells": [
  {
   "cell_type": "code",
   "execution_count": 2,
   "metadata": {},
   "outputs": [],
   "source": [
    "import pandas as pd\n",
    "import matplotlib.pyplot as plt\n",
    "import seaborn as sns"
   ]
  },
  {
   "cell_type": "code",
   "execution_count": 29,
   "metadata": {},
   "outputs": [],
   "source": [
    "# Load data and filter for appropriate columns\n",
    "wifi_data = pd.read_csv(\"../data/netrics/march/lan_bw.csv\", usecols=lambda x: x != 'Unnamed: 0')\n",
    "wifi_data[\"Time\"] = pd.to_datetime(wifi_data[\"Time\"])\n",
    "wifi_data.set_index(\"Time\", inplace=True)\n",
    "wifi_data_one_device = wifi_data.query(\"ID == 'nm-mngd-20210927-f531ff46' & Measurement == 'lan_bw_server_mbps'\")\n",
    "\n",
    "speed_data = pd.read_csv(\"../data/netrics/march/speedtest.csv\", usecols=lambda x: x != 'Unnamed: 0')\n",
    "speed_data[\"Time\"] = pd.to_datetime(speed_data[\"Time\"])\n",
    "speed_data.set_index(\"Time\", inplace=True)\n",
    "speed_data_one_device = speed_data.query(\"ID == 'nm-mngd-20210927-f531ff46' & Tool == 'ndt7' & Direction == 'download'\")"
   ]
  },
  {
   "cell_type": "code",
   "execution_count": 30,
   "metadata": {},
   "outputs": [
    {
     "data": {
      "text/html": [
       "<div>\n",
       "<style scoped>\n",
       "    .dataframe tbody tr th:only-of-type {\n",
       "        vertical-align: middle;\n",
       "    }\n",
       "\n",
       "    .dataframe tbody tr th {\n",
       "        vertical-align: top;\n",
       "    }\n",
       "\n",
       "    .dataframe thead th {\n",
       "        text-align: right;\n",
       "    }\n",
       "</style>\n",
       "<table border=\"1\" class=\"dataframe\">\n",
       "  <thead>\n",
       "    <tr style=\"text-align: right;\">\n",
       "      <th></th>\n",
       "      <th>Speed (Mbps)</th>\n",
       "      <th>Measurement</th>\n",
       "      <th>ID</th>\n",
       "      <th>Origin</th>\n",
       "    </tr>\n",
       "    <tr>\n",
       "      <th>Time</th>\n",
       "      <th></th>\n",
       "      <th></th>\n",
       "      <th></th>\n",
       "      <th></th>\n",
       "    </tr>\n",
       "  </thead>\n",
       "  <tbody>\n",
       "    <tr>\n",
       "      <th>2022-02-28 18:22:48-06:00</th>\n",
       "      <td>269.652503</td>\n",
       "      <td>lan_bw_server_mbps</td>\n",
       "      <td>nm-mngd-20210927-f531ff46</td>\n",
       "      <td>Netrics</td>\n",
       "    </tr>\n",
       "    <tr>\n",
       "      <th>2022-03-01 07:41:27-06:00</th>\n",
       "      <td>352.395518</td>\n",
       "      <td>lan_bw_server_mbps</td>\n",
       "      <td>nm-mngd-20210927-f531ff46</td>\n",
       "      <td>Netrics</td>\n",
       "    </tr>\n",
       "    <tr>\n",
       "      <th>2022-03-01 13:41:27-06:00</th>\n",
       "      <td>432.300378</td>\n",
       "      <td>lan_bw_server_mbps</td>\n",
       "      <td>nm-mngd-20210927-f531ff46</td>\n",
       "      <td>Netrics</td>\n",
       "    </tr>\n",
       "    <tr>\n",
       "      <th>2022-03-01 19:55:48-06:00</th>\n",
       "      <td>104.100360</td>\n",
       "      <td>lan_bw_server_mbps</td>\n",
       "      <td>nm-mngd-20210927-f531ff46</td>\n",
       "      <td>Netrics</td>\n",
       "    </tr>\n",
       "    <tr>\n",
       "      <th>2022-03-02 11:56:36-06:00</th>\n",
       "      <td>358.611539</td>\n",
       "      <td>lan_bw_server_mbps</td>\n",
       "      <td>nm-mngd-20210927-f531ff46</td>\n",
       "      <td>Netrics</td>\n",
       "    </tr>\n",
       "  </tbody>\n",
       "</table>\n",
       "</div>"
      ],
      "text/plain": [
       "                           Speed (Mbps)         Measurement  \\\n",
       "Time                                                          \n",
       "2022-02-28 18:22:48-06:00    269.652503  lan_bw_server_mbps   \n",
       "2022-03-01 07:41:27-06:00    352.395518  lan_bw_server_mbps   \n",
       "2022-03-01 13:41:27-06:00    432.300378  lan_bw_server_mbps   \n",
       "2022-03-01 19:55:48-06:00    104.100360  lan_bw_server_mbps   \n",
       "2022-03-02 11:56:36-06:00    358.611539  lan_bw_server_mbps   \n",
       "\n",
       "                                                  ID   Origin  \n",
       "Time                                                           \n",
       "2022-02-28 18:22:48-06:00  nm-mngd-20210927-f531ff46  Netrics  \n",
       "2022-03-01 07:41:27-06:00  nm-mngd-20210927-f531ff46  Netrics  \n",
       "2022-03-01 13:41:27-06:00  nm-mngd-20210927-f531ff46  Netrics  \n",
       "2022-03-01 19:55:48-06:00  nm-mngd-20210927-f531ff46  Netrics  \n",
       "2022-03-02 11:56:36-06:00  nm-mngd-20210927-f531ff46  Netrics  "
      ]
     },
     "execution_count": 30,
     "metadata": {},
     "output_type": "execute_result"
    }
   ],
   "source": [
    "wifi_data_one_device.head()"
   ]
  },
  {
   "cell_type": "code",
   "execution_count": 31,
   "metadata": {},
   "outputs": [
    {
     "data": {
      "text/html": [
       "<div>\n",
       "<style scoped>\n",
       "    .dataframe tbody tr th:only-of-type {\n",
       "        vertical-align: middle;\n",
       "    }\n",
       "\n",
       "    .dataframe tbody tr th {\n",
       "        vertical-align: top;\n",
       "    }\n",
       "\n",
       "    .dataframe thead th {\n",
       "        text-align: right;\n",
       "    }\n",
       "</style>\n",
       "<table border=\"1\" class=\"dataframe\">\n",
       "  <thead>\n",
       "    <tr style=\"text-align: right;\">\n",
       "      <th></th>\n",
       "      <th>Direction</th>\n",
       "      <th>Tool</th>\n",
       "      <th>Speed</th>\n",
       "      <th>ID</th>\n",
       "    </tr>\n",
       "    <tr>\n",
       "      <th>Time</th>\n",
       "      <th></th>\n",
       "      <th></th>\n",
       "      <th></th>\n",
       "      <th></th>\n",
       "    </tr>\n",
       "  </thead>\n",
       "  <tbody>\n",
       "    <tr>\n",
       "      <th>2022-02-28 19:28:57.638280-06:00</th>\n",
       "      <td>download</td>\n",
       "      <td>ndt7</td>\n",
       "      <td>660.248956</td>\n",
       "      <td>nm-mngd-20210927-f531ff46</td>\n",
       "    </tr>\n",
       "    <tr>\n",
       "      <th>2022-03-01 11:28:49.187056-06:00</th>\n",
       "      <td>download</td>\n",
       "      <td>ndt7</td>\n",
       "      <td>696.380001</td>\n",
       "      <td>nm-mngd-20210927-f531ff46</td>\n",
       "    </tr>\n",
       "    <tr>\n",
       "      <th>2022-03-02 14:28:57.753999-06:00</th>\n",
       "      <td>download</td>\n",
       "      <td>ndt7</td>\n",
       "      <td>670.719762</td>\n",
       "      <td>nm-mngd-20210927-f531ff46</td>\n",
       "    </tr>\n",
       "    <tr>\n",
       "      <th>2022-03-03 01:28:48.487709-06:00</th>\n",
       "      <td>download</td>\n",
       "      <td>ndt7</td>\n",
       "      <td>669.698230</td>\n",
       "      <td>nm-mngd-20210927-f531ff46</td>\n",
       "    </tr>\n",
       "    <tr>\n",
       "      <th>2022-03-03 03:28:57.906533-06:00</th>\n",
       "      <td>download</td>\n",
       "      <td>ndt7</td>\n",
       "      <td>672.746312</td>\n",
       "      <td>nm-mngd-20210927-f531ff46</td>\n",
       "    </tr>\n",
       "  </tbody>\n",
       "</table>\n",
       "</div>"
      ],
      "text/plain": [
       "                                 Direction  Tool       Speed  \\\n",
       "Time                                                           \n",
       "2022-02-28 19:28:57.638280-06:00  download  ndt7  660.248956   \n",
       "2022-03-01 11:28:49.187056-06:00  download  ndt7  696.380001   \n",
       "2022-03-02 14:28:57.753999-06:00  download  ndt7  670.719762   \n",
       "2022-03-03 01:28:48.487709-06:00  download  ndt7  669.698230   \n",
       "2022-03-03 03:28:57.906533-06:00  download  ndt7  672.746312   \n",
       "\n",
       "                                                         ID  \n",
       "Time                                                         \n",
       "2022-02-28 19:28:57.638280-06:00  nm-mngd-20210927-f531ff46  \n",
       "2022-03-01 11:28:49.187056-06:00  nm-mngd-20210927-f531ff46  \n",
       "2022-03-02 14:28:57.753999-06:00  nm-mngd-20210927-f531ff46  \n",
       "2022-03-03 01:28:48.487709-06:00  nm-mngd-20210927-f531ff46  \n",
       "2022-03-03 03:28:57.906533-06:00  nm-mngd-20210927-f531ff46  "
      ]
     },
     "execution_count": 31,
     "metadata": {},
     "output_type": "execute_result"
    }
   ],
   "source": [
    "speed_data_one_device.head()"
   ]
  },
  {
   "cell_type": "code",
   "execution_count": 32,
   "metadata": {},
   "outputs": [
    {
     "data": {
      "image/png": "[encoded data removed]",
      "text/plain": [
       "<Figure size 720x360 with 1 Axes>"
      ]
     },
     "metadata": {},
     "output_type": "display_data"
    }
   ],
   "source": [
    "sns.set_style(\"whitegrid\")\n",
    "fig, ax = plt.subplots(1, 1, figsize=(10, 5))\n",
    "wifi_data_one_device.plot(\n",
    "    ax=ax,\n",
    "    y=\"Speed (Mbps)\"\n",
    ")\n",
    "speed_data_one_device.plot(\n",
    "    ax=ax,\n",
    "    y=\"Speed\"\n",
    ")\n",
    "ax.legend([\"WiFi Speed\", \"Internet Speed\"])\n",
    "ax.set_title(\"Internet Speed vs. WiFi Speed\")\n",
    "ax.set_ylabel(\"Mbps\")\n",
    "ax.set_xlabel(\"Date\")\n",
    "ax.xaxis.grid(False)\n",
    "sns.despine(left=True)"
   ]
  },
  {
   "cell_type": "code",
   "execution_count": null,
   "metadata": {},
   "outputs": [],
   "source": []
  }
 ],
 "metadata": {
  "interpreter": {
   "hash": "40d3a090f54c6569ab1632332b64b2c03c39dcf918b08424e98f38b5ae0af88f"
  },
  "kernelspec": {
   "display_name": "Python 3.8.8 64-bit ('base': conda)",
   "name": "python3"
  },
  "language_info": {
   "codemirror_mode": {
    "name": "ipython",
    "version": 3
   },
   "file_extension": ".py",
   "mimetype": "text/x-python",
   "name": "python",
   "nbconvert_exporter": "python",
   "pygments_lexer": "ipython3",
   "version": "3.8.8"
  },
  "orig_nbformat": 4
 },
 "nbformat": 4,
 "nbformat_minor": 2
}
